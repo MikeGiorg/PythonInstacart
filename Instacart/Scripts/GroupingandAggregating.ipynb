{
 "cells": [
  {
   "cell_type": "markdown",
   "id": "917d7a41-349f-4712-97cc-886a4f9101b8",
   "metadata": {},
   "source": [
    "## Importing Libraries"
   ]
  },
  {
   "cell_type": "code",
   "execution_count": 3,
   "id": "fc6efdde-c812-49f5-a778-91a4aedd631b",
   "metadata": {
    "tags": []
   },
   "outputs": [],
   "source": [
    "import pandas as pd\n",
    "import numpy as np\n",
    "import os"
   ]
  },
  {
   "cell_type": "markdown",
   "id": "d0784067-bdb8-49ec-8c8c-3baaeeb165af",
   "metadata": {},
   "source": [
    "## Importing Data"
   ]
  },
  {
   "cell_type": "code",
   "execution_count": 5,
   "id": "06d6ee7a-4a3b-4c98-98b8-1a1f8e1916b7",
   "metadata": {
    "tags": []
   },
   "outputs": [],
   "source": [
    "# Create path\n",
    "path = r'/Users/michele/Desktop/CF/files/Module4/Instacart/Data'"
   ]
  },
  {
   "cell_type": "code",
   "execution_count": 7,
   "id": "c0031f71-e714-4a18-987d-5c425375a667",
   "metadata": {
    "tags": []
   },
   "outputs": [],
   "source": [
    "# Import orders_products_merged\n",
    "df_ords_prods_merge = pd.read_pickle(os.path.join(path, 'Prepared', 'products_orders_merged.pkl'))"
   ]
  },
  {
   "cell_type": "markdown",
   "id": "22df8bc5-e5c3-4da7-a654-9704c62c85c6",
   "metadata": {},
   "source": [
    "## Tasks"
   ]
  },
  {
   "cell_type": "markdown",
   "id": "eed44ad9-0046-4671-b5e1-650dc237af5c",
   "metadata": {
    "tags": []
   },
   "source": [
    "<b>Find the aggregated mean of the “order_number” column grouped by “department_id” for the entire dataframe.</b>"
   ]
  },
  {
   "cell_type": "code",
   "execution_count": 8,
   "id": "e1fee588-7a49-4851-8bc2-bf2d7ac80955",
   "metadata": {
    "tags": []
   },
   "outputs": [
    {
     "data": {
      "text/html": [
       "<div>\n",
       "<style scoped>\n",
       "    .dataframe tbody tr th:only-of-type {\n",
       "        vertical-align: middle;\n",
       "    }\n",
       "\n",
       "    .dataframe tbody tr th {\n",
       "        vertical-align: top;\n",
       "    }\n",
       "\n",
       "    .dataframe thead tr th {\n",
       "        text-align: left;\n",
       "    }\n",
       "\n",
       "    .dataframe thead tr:last-of-type th {\n",
       "        text-align: right;\n",
       "    }\n",
       "</style>\n",
       "<table border=\"1\" class=\"dataframe\">\n",
       "  <thead>\n",
       "    <tr>\n",
       "      <th></th>\n",
       "      <th>order_number</th>\n",
       "    </tr>\n",
       "    <tr>\n",
       "      <th></th>\n",
       "      <th>mean</th>\n",
       "    </tr>\n",
       "    <tr>\n",
       "      <th>department_id</th>\n",
       "      <th></th>\n",
       "    </tr>\n",
       "  </thead>\n",
       "  <tbody>\n",
       "    <tr>\n",
       "      <th>1</th>\n",
       "      <td>15.457838</td>\n",
       "    </tr>\n",
       "    <tr>\n",
       "      <th>2</th>\n",
       "      <td>17.277920</td>\n",
       "    </tr>\n",
       "    <tr>\n",
       "      <th>3</th>\n",
       "      <td>17.170395</td>\n",
       "    </tr>\n",
       "    <tr>\n",
       "      <th>4</th>\n",
       "      <td>17.811403</td>\n",
       "    </tr>\n",
       "    <tr>\n",
       "      <th>5</th>\n",
       "      <td>15.215751</td>\n",
       "    </tr>\n",
       "    <tr>\n",
       "      <th>6</th>\n",
       "      <td>16.439806</td>\n",
       "    </tr>\n",
       "    <tr>\n",
       "      <th>7</th>\n",
       "      <td>17.225802</td>\n",
       "    </tr>\n",
       "    <tr>\n",
       "      <th>8</th>\n",
       "      <td>15.340650</td>\n",
       "    </tr>\n",
       "    <tr>\n",
       "      <th>9</th>\n",
       "      <td>15.895474</td>\n",
       "    </tr>\n",
       "    <tr>\n",
       "      <th>10</th>\n",
       "      <td>20.197148</td>\n",
       "    </tr>\n",
       "    <tr>\n",
       "      <th>11</th>\n",
       "      <td>16.170638</td>\n",
       "    </tr>\n",
       "    <tr>\n",
       "      <th>12</th>\n",
       "      <td>15.887671</td>\n",
       "    </tr>\n",
       "    <tr>\n",
       "      <th>13</th>\n",
       "      <td>16.583536</td>\n",
       "    </tr>\n",
       "    <tr>\n",
       "      <th>14</th>\n",
       "      <td>16.773669</td>\n",
       "    </tr>\n",
       "    <tr>\n",
       "      <th>15</th>\n",
       "      <td>16.165037</td>\n",
       "    </tr>\n",
       "    <tr>\n",
       "      <th>16</th>\n",
       "      <td>17.665606</td>\n",
       "    </tr>\n",
       "    <tr>\n",
       "      <th>17</th>\n",
       "      <td>15.694469</td>\n",
       "    </tr>\n",
       "    <tr>\n",
       "      <th>18</th>\n",
       "      <td>19.310397</td>\n",
       "    </tr>\n",
       "    <tr>\n",
       "      <th>19</th>\n",
       "      <td>17.177343</td>\n",
       "    </tr>\n",
       "    <tr>\n",
       "      <th>20</th>\n",
       "      <td>16.473447</td>\n",
       "    </tr>\n",
       "    <tr>\n",
       "      <th>21</th>\n",
       "      <td>22.902379</td>\n",
       "    </tr>\n",
       "  </tbody>\n",
       "</table>\n",
       "</div>"
      ],
      "text/plain": [
       "              order_number\n",
       "                      mean\n",
       "department_id             \n",
       "1                15.457838\n",
       "2                17.277920\n",
       "3                17.170395\n",
       "4                17.811403\n",
       "5                15.215751\n",
       "6                16.439806\n",
       "7                17.225802\n",
       "8                15.340650\n",
       "9                15.895474\n",
       "10               20.197148\n",
       "11               16.170638\n",
       "12               15.887671\n",
       "13               16.583536\n",
       "14               16.773669\n",
       "15               16.165037\n",
       "16               17.665606\n",
       "17               15.694469\n",
       "18               19.310397\n",
       "19               17.177343\n",
       "20               16.473447\n",
       "21               22.902379"
      ]
     },
     "execution_count": 8,
     "metadata": {},
     "output_type": "execute_result"
    }
   ],
   "source": [
    "df_ords_prods_merge.groupby('department_id').agg({'order_number': ['mean']})"
   ]
  },
  {
   "cell_type": "code",
   "execution_count": 11,
   "id": "7fde466d-1484-4e7f-92b7-63e3b60e414c",
   "metadata": {
    "tags": []
   },
   "outputs": [],
   "source": [
    "# Subset\n",
    "df = df_ords_prods_merge[:1000000]"
   ]
  },
  {
   "cell_type": "code",
   "execution_count": 13,
   "id": "7cb4b858-6f90-4c18-b8ca-d714524ccbd5",
   "metadata": {
    "tags": []
   },
   "outputs": [
    {
     "data": {
      "text/html": [
       "<div>\n",
       "<style scoped>\n",
       "    .dataframe tbody tr th:only-of-type {\n",
       "        vertical-align: middle;\n",
       "    }\n",
       "\n",
       "    .dataframe tbody tr th {\n",
       "        vertical-align: top;\n",
       "    }\n",
       "\n",
       "    .dataframe thead tr th {\n",
       "        text-align: left;\n",
       "    }\n",
       "\n",
       "    .dataframe thead tr:last-of-type th {\n",
       "        text-align: right;\n",
       "    }\n",
       "</style>\n",
       "<table border=\"1\" class=\"dataframe\">\n",
       "  <thead>\n",
       "    <tr>\n",
       "      <th></th>\n",
       "      <th>order_number</th>\n",
       "    </tr>\n",
       "    <tr>\n",
       "      <th></th>\n",
       "      <th>mean</th>\n",
       "    </tr>\n",
       "    <tr>\n",
       "      <th>department_id</th>\n",
       "      <th></th>\n",
       "    </tr>\n",
       "  </thead>\n",
       "  <tbody>\n",
       "    <tr>\n",
       "      <th>1</th>\n",
       "      <td>14.800024</td>\n",
       "    </tr>\n",
       "    <tr>\n",
       "      <th>2</th>\n",
       "      <td>17.091743</td>\n",
       "    </tr>\n",
       "    <tr>\n",
       "      <th>3</th>\n",
       "      <td>17.913544</td>\n",
       "    </tr>\n",
       "    <tr>\n",
       "      <th>4</th>\n",
       "      <td>17.893092</td>\n",
       "    </tr>\n",
       "    <tr>\n",
       "      <th>5</th>\n",
       "      <td>15.214270</td>\n",
       "    </tr>\n",
       "    <tr>\n",
       "      <th>6</th>\n",
       "      <td>15.382135</td>\n",
       "    </tr>\n",
       "    <tr>\n",
       "      <th>7</th>\n",
       "      <td>17.694027</td>\n",
       "    </tr>\n",
       "    <tr>\n",
       "      <th>8</th>\n",
       "      <td>16.458105</td>\n",
       "    </tr>\n",
       "    <tr>\n",
       "      <th>9</th>\n",
       "      <td>15.957363</td>\n",
       "    </tr>\n",
       "    <tr>\n",
       "      <th>10</th>\n",
       "      <td>20.091818</td>\n",
       "    </tr>\n",
       "    <tr>\n",
       "      <th>11</th>\n",
       "      <td>16.482026</td>\n",
       "    </tr>\n",
       "    <tr>\n",
       "      <th>12</th>\n",
       "      <td>15.615061</td>\n",
       "    </tr>\n",
       "    <tr>\n",
       "      <th>13</th>\n",
       "      <td>16.484023</td>\n",
       "    </tr>\n",
       "    <tr>\n",
       "      <th>14</th>\n",
       "      <td>17.524632</td>\n",
       "    </tr>\n",
       "    <tr>\n",
       "      <th>15</th>\n",
       "      <td>15.691875</td>\n",
       "    </tr>\n",
       "    <tr>\n",
       "      <th>16</th>\n",
       "      <td>18.014071</td>\n",
       "    </tr>\n",
       "    <tr>\n",
       "      <th>17</th>\n",
       "      <td>16.150593</td>\n",
       "    </tr>\n",
       "    <tr>\n",
       "      <th>18</th>\n",
       "      <td>19.602850</td>\n",
       "    </tr>\n",
       "    <tr>\n",
       "      <th>19</th>\n",
       "      <td>17.631340</td>\n",
       "    </tr>\n",
       "    <tr>\n",
       "      <th>20</th>\n",
       "      <td>17.138607</td>\n",
       "    </tr>\n",
       "    <tr>\n",
       "      <th>21</th>\n",
       "      <td>21.956893</td>\n",
       "    </tr>\n",
       "  </tbody>\n",
       "</table>\n",
       "</div>"
      ],
      "text/plain": [
       "              order_number\n",
       "                      mean\n",
       "department_id             \n",
       "1                14.800024\n",
       "2                17.091743\n",
       "3                17.913544\n",
       "4                17.893092\n",
       "5                15.214270\n",
       "6                15.382135\n",
       "7                17.694027\n",
       "8                16.458105\n",
       "9                15.957363\n",
       "10               20.091818\n",
       "11               16.482026\n",
       "12               15.615061\n",
       "13               16.484023\n",
       "14               17.524632\n",
       "15               15.691875\n",
       "16               18.014071\n",
       "17               16.150593\n",
       "18               19.602850\n",
       "19               17.631340\n",
       "20               17.138607\n",
       "21               21.956893"
      ]
     },
     "execution_count": 13,
     "metadata": {},
     "output_type": "execute_result"
    }
   ],
   "source": [
    "# Aggregated mean for the subset\n",
    "df.groupby('department_id').agg({'order_number':['mean']})"
   ]
  },
  {
   "cell_type": "markdown",
   "id": "5efdbfbc-e924-4d80-aa67-62cad4681323",
   "metadata": {
    "tags": []
   },
   "source": [
    " <b>How do the results for the entire dataframe differ from those of the subset?</b>"
   ]
  },
  {
   "cell_type": "markdown",
   "id": "90143235-22b3-4247-8242-b72b5785335e",
   "metadata": {},
   "source": [
    "The average of the entire dataframe is slightly higher compared to the subset, but the difference is minimal"
   ]
  },
  {
   "cell_type": "markdown",
   "id": "2d11a5de-bae6-4496-af3c-bba284c01ed9",
   "metadata": {
    "tags": []
   },
   "source": [
    "<b>Check the basic statistics of the product prices for each loyalty category (Loyal Customer, Regular Customer, and New Customer). Determine if the prices of products purchased by loyal customers differ from those purchased by regular or new customers.</b>"
   ]
  },
  {
   "cell_type": "code",
   "execution_count": 15,
   "id": "cc7b2861-8001-4fac-a144-60a2b2aabb27",
   "metadata": {
    "tags": []
   },
   "outputs": [],
   "source": [
    "# Create max order column\n",
    "df_ords_prods_merge['max_order'] = df_ords_prods_merge.groupby(['user_id'])['order_number'].transform('max')"
   ]
  },
  {
   "cell_type": "code",
   "execution_count": 17,
   "id": "70359a8f-7aeb-452b-8adf-7f7362b2a24e",
   "metadata": {
    "tags": []
   },
   "outputs": [],
   "source": [
    "# Flag the loyal customers\n",
    "df_ords_prods_merge.loc[df_ords_prods_merge['max_order'] > 40, 'loyalty_flag'] = 'Loyal customer'"
   ]
  },
  {
   "cell_type": "code",
   "execution_count": 19,
   "id": "af2d0d51-1e20-4ed3-a0a5-cb04ee4dbe1c",
   "metadata": {
    "tags": []
   },
   "outputs": [],
   "source": [
    "df_ords_prods_merge.loc[(df_ords_prods_merge['max_order'] <= 40) & (df_ords_prods_merge['max_order'] > 10), 'loyalty_flag'] = 'Regular customer'"
   ]
  },
  {
   "cell_type": "code",
   "execution_count": 21,
   "id": "d6c9e83a-ad5e-49d2-97cf-28ce37fcf130",
   "metadata": {
    "tags": []
   },
   "outputs": [],
   "source": [
    "df_ords_prods_merge.loc[df_ords_prods_merge['max_order'] <= 10, 'loyalty_flag'] = 'New customer'"
   ]
  },
  {
   "cell_type": "code",
   "execution_count": 23,
   "id": "0f8ba015-0c74-407c-8427-b0c963cc7695",
   "metadata": {
    "tags": []
   },
   "outputs": [
    {
     "data": {
      "text/html": [
       "<div>\n",
       "<style scoped>\n",
       "    .dataframe tbody tr th:only-of-type {\n",
       "        vertical-align: middle;\n",
       "    }\n",
       "\n",
       "    .dataframe tbody tr th {\n",
       "        vertical-align: top;\n",
       "    }\n",
       "\n",
       "    .dataframe thead tr th {\n",
       "        text-align: left;\n",
       "    }\n",
       "\n",
       "    .dataframe thead tr:last-of-type th {\n",
       "        text-align: right;\n",
       "    }\n",
       "</style>\n",
       "<table border=\"1\" class=\"dataframe\">\n",
       "  <thead>\n",
       "    <tr>\n",
       "      <th></th>\n",
       "      <th colspan=\"3\" halign=\"left\">prices</th>\n",
       "    </tr>\n",
       "    <tr>\n",
       "      <th></th>\n",
       "      <th>mean</th>\n",
       "      <th>max</th>\n",
       "      <th>min</th>\n",
       "    </tr>\n",
       "    <tr>\n",
       "      <th>loyalty_flag</th>\n",
       "      <th></th>\n",
       "      <th></th>\n",
       "      <th></th>\n",
       "    </tr>\n",
       "  </thead>\n",
       "  <tbody>\n",
       "    <tr>\n",
       "      <th>Loyal customer</th>\n",
       "      <td>10.386336</td>\n",
       "      <td>99999.0</td>\n",
       "      <td>1.0</td>\n",
       "    </tr>\n",
       "    <tr>\n",
       "      <th>New customer</th>\n",
       "      <td>13.294670</td>\n",
       "      <td>99999.0</td>\n",
       "      <td>1.0</td>\n",
       "    </tr>\n",
       "    <tr>\n",
       "      <th>Regular customer</th>\n",
       "      <td>12.495717</td>\n",
       "      <td>99999.0</td>\n",
       "      <td>1.0</td>\n",
       "    </tr>\n",
       "  </tbody>\n",
       "</table>\n",
       "</div>"
      ],
      "text/plain": [
       "                     prices              \n",
       "                       mean      max  min\n",
       "loyalty_flag                             \n",
       "Loyal customer    10.386336  99999.0  1.0\n",
       "New customer      13.294670  99999.0  1.0\n",
       "Regular customer  12.495717  99999.0  1.0"
      ]
     },
     "execution_count": 23,
     "metadata": {},
     "output_type": "execute_result"
    }
   ],
   "source": [
    "# Check the basic statistics for the loyalty categories\n",
    "df_ords_prods_merge.groupby('loyalty_flag').agg({'prices': ['mean','max','min']})"
   ]
  },
  {
   "cell_type": "markdown",
   "id": "02c145af-1133-4739-b125-0c0c29c2f8ea",
   "metadata": {},
   "source": [
    "The minimum and maximum prices are the same for all the loyalty categories. The average price is higher for new customers and goes increasingly down for regular and loyal customers. "
   ]
  },
  {
   "cell_type": "code",
   "execution_count": 25,
   "id": "3664ab44-6760-4e9d-b6ef-0efd234b752e",
   "metadata": {
    "tags": []
   },
   "outputs": [
    {
     "data": {
      "text/html": [
       "<div>\n",
       "<style scoped>\n",
       "    .dataframe tbody tr th:only-of-type {\n",
       "        vertical-align: middle;\n",
       "    }\n",
       "\n",
       "    .dataframe tbody tr th {\n",
       "        vertical-align: top;\n",
       "    }\n",
       "\n",
       "    .dataframe thead th {\n",
       "        text-align: right;\n",
       "    }\n",
       "</style>\n",
       "<table border=\"1\" class=\"dataframe\">\n",
       "  <thead>\n",
       "    <tr style=\"text-align: right;\">\n",
       "      <th></th>\n",
       "      <th>Unnamed: 0</th>\n",
       "      <th>order_id</th>\n",
       "      <th>user_id</th>\n",
       "      <th>order_number</th>\n",
       "      <th>order_days_of_week</th>\n",
       "      <th>order_hour_of_day</th>\n",
       "      <th>days_since_prior_order</th>\n",
       "      <th>product_id</th>\n",
       "      <th>add_to_cart_order</th>\n",
       "      <th>reordered</th>\n",
       "      <th>_merge</th>\n",
       "      <th>product_name</th>\n",
       "      <th>aisle_id</th>\n",
       "      <th>department_id</th>\n",
       "      <th>prices</th>\n",
       "      <th>exists</th>\n",
       "      <th>max_order</th>\n",
       "      <th>loyalty_flag</th>\n",
       "    </tr>\n",
       "  </thead>\n",
       "  <tbody>\n",
       "    <tr>\n",
       "      <th>0</th>\n",
       "      <td>0</td>\n",
       "      <td>2539329</td>\n",
       "      <td>1</td>\n",
       "      <td>1</td>\n",
       "      <td>2</td>\n",
       "      <td>8</td>\n",
       "      <td>0.0</td>\n",
       "      <td>196</td>\n",
       "      <td>1</td>\n",
       "      <td>0</td>\n",
       "      <td>both</td>\n",
       "      <td>Soda</td>\n",
       "      <td>77</td>\n",
       "      <td>7</td>\n",
       "      <td>9.0</td>\n",
       "      <td>both</td>\n",
       "      <td>10</td>\n",
       "      <td>New customer</td>\n",
       "    </tr>\n",
       "    <tr>\n",
       "      <th>1</th>\n",
       "      <td>0</td>\n",
       "      <td>2539329</td>\n",
       "      <td>1</td>\n",
       "      <td>1</td>\n",
       "      <td>2</td>\n",
       "      <td>8</td>\n",
       "      <td>0.0</td>\n",
       "      <td>14084</td>\n",
       "      <td>2</td>\n",
       "      <td>0</td>\n",
       "      <td>both</td>\n",
       "      <td>Organic Unsweetened Vanilla Almond Milk</td>\n",
       "      <td>91</td>\n",
       "      <td>16</td>\n",
       "      <td>12.5</td>\n",
       "      <td>both</td>\n",
       "      <td>10</td>\n",
       "      <td>New customer</td>\n",
       "    </tr>\n",
       "    <tr>\n",
       "      <th>2</th>\n",
       "      <td>0</td>\n",
       "      <td>2539329</td>\n",
       "      <td>1</td>\n",
       "      <td>1</td>\n",
       "      <td>2</td>\n",
       "      <td>8</td>\n",
       "      <td>0.0</td>\n",
       "      <td>12427</td>\n",
       "      <td>3</td>\n",
       "      <td>0</td>\n",
       "      <td>both</td>\n",
       "      <td>Original Beef Jerky</td>\n",
       "      <td>23</td>\n",
       "      <td>19</td>\n",
       "      <td>4.4</td>\n",
       "      <td>both</td>\n",
       "      <td>10</td>\n",
       "      <td>New customer</td>\n",
       "    </tr>\n",
       "    <tr>\n",
       "      <th>3</th>\n",
       "      <td>0</td>\n",
       "      <td>2539329</td>\n",
       "      <td>1</td>\n",
       "      <td>1</td>\n",
       "      <td>2</td>\n",
       "      <td>8</td>\n",
       "      <td>0.0</td>\n",
       "      <td>26088</td>\n",
       "      <td>4</td>\n",
       "      <td>0</td>\n",
       "      <td>both</td>\n",
       "      <td>Aged White Cheddar Popcorn</td>\n",
       "      <td>23</td>\n",
       "      <td>19</td>\n",
       "      <td>4.7</td>\n",
       "      <td>both</td>\n",
       "      <td>10</td>\n",
       "      <td>New customer</td>\n",
       "    </tr>\n",
       "    <tr>\n",
       "      <th>4</th>\n",
       "      <td>0</td>\n",
       "      <td>2539329</td>\n",
       "      <td>1</td>\n",
       "      <td>1</td>\n",
       "      <td>2</td>\n",
       "      <td>8</td>\n",
       "      <td>0.0</td>\n",
       "      <td>26405</td>\n",
       "      <td>5</td>\n",
       "      <td>0</td>\n",
       "      <td>both</td>\n",
       "      <td>XL Pick-A-Size Paper Towel Rolls</td>\n",
       "      <td>54</td>\n",
       "      <td>17</td>\n",
       "      <td>1.0</td>\n",
       "      <td>both</td>\n",
       "      <td>10</td>\n",
       "      <td>New customer</td>\n",
       "    </tr>\n",
       "  </tbody>\n",
       "</table>\n",
       "</div>"
      ],
      "text/plain": [
       "   Unnamed: 0  order_id  user_id  order_number  order_days_of_week  \\\n",
       "0           0   2539329        1             1                   2   \n",
       "1           0   2539329        1             1                   2   \n",
       "2           0   2539329        1             1                   2   \n",
       "3           0   2539329        1             1                   2   \n",
       "4           0   2539329        1             1                   2   \n",
       "\n",
       "   order_hour_of_day  days_since_prior_order  product_id  add_to_cart_order  \\\n",
       "0                  8                     0.0         196                  1   \n",
       "1                  8                     0.0       14084                  2   \n",
       "2                  8                     0.0       12427                  3   \n",
       "3                  8                     0.0       26088                  4   \n",
       "4                  8                     0.0       26405                  5   \n",
       "\n",
       "   reordered _merge                             product_name  aisle_id  \\\n",
       "0          0   both                                     Soda        77   \n",
       "1          0   both  Organic Unsweetened Vanilla Almond Milk        91   \n",
       "2          0   both                      Original Beef Jerky        23   \n",
       "3          0   both               Aged White Cheddar Popcorn        23   \n",
       "4          0   both         XL Pick-A-Size Paper Towel Rolls        54   \n",
       "\n",
       "   department_id  prices exists  max_order  loyalty_flag  \n",
       "0              7     9.0   both         10  New customer  \n",
       "1             16    12.5   both         10  New customer  \n",
       "2             19     4.4   both         10  New customer  \n",
       "3             19     4.7   both         10  New customer  \n",
       "4             17     1.0   both         10  New customer  "
      ]
     },
     "execution_count": 25,
     "metadata": {},
     "output_type": "execute_result"
    }
   ],
   "source": [
    "df_ords_prods_merge.head()"
   ]
  },
  {
   "cell_type": "markdown",
   "id": "fc83ae9c-78b7-4b0b-894e-34fa270bf082",
   "metadata": {},
   "source": [
    "<b>Create a spending flag for each user based on the average price across all their orders using the following criteria:</b>"
   ]
  },
  {
   "cell_type": "markdown",
   "id": "3afe84df-b163-4ecd-b417-8c128aac5683",
   "metadata": {},
   "source": [
    "<b>If the mean of the prices of products purchased by a user is lower than 10, then flag them as a “Low spender.”</b>"
   ]
  },
  {
   "cell_type": "markdown",
   "id": "8da5785b-9826-43a8-a883-f21674f148f8",
   "metadata": {},
   "source": [
    "<b>If the mean of the prices of products purchased by a user is higher than or equal to 10, then flag them as a “High spender.”</b>"
   ]
  },
  {
   "cell_type": "code",
   "execution_count": 31,
   "id": "60170f2d-e160-438f-a7dd-3fab4c018758",
   "metadata": {
    "tags": []
   },
   "outputs": [],
   "source": [
    "# Create average spend column\n",
    "df_ords_prods_merge['avg_spend'] = df_ords_prods_merge.groupby(['user_id'])['prices'].transform('mean')"
   ]
  },
  {
   "cell_type": "code",
   "execution_count": 33,
   "id": "19950c54-c645-4754-b408-287a304a563c",
   "metadata": {
    "tags": []
   },
   "outputs": [],
   "source": [
    "# Flag the spending categories\n",
    "df_ords_prods_merge.loc[df_ords_prods_merge['avg_spend'] <10,'Spending_flag'] = 'Low spender'\n",
    "df_ords_prods_merge.loc[df_ords_prods_merge['avg_spend'] >=10,'Spending_flag'] = 'High spender'"
   ]
  },
  {
   "cell_type": "code",
   "execution_count": 35,
   "id": "22b3e3ec-dc87-482b-ad01-c0862d319cf9",
   "metadata": {
    "tags": []
   },
   "outputs": [
    {
     "data": {
      "text/plain": [
       "Spending_flag\n",
       "Low spender     31770614\n",
       "High spender      634245\n",
       "Name: count, dtype: int64"
      ]
     },
     "execution_count": 35,
     "metadata": {},
     "output_type": "execute_result"
    }
   ],
   "source": [
    "# Frequency check\n",
    "df_ords_prods_merge['Spending_flag'].value_counts(dropna = False)"
   ]
  },
  {
   "cell_type": "markdown",
   "id": "9bb60f28-555a-4e9f-874b-114f872c7c16",
   "metadata": {},
   "source": [
    "<b>Create an order frequency flag that marks the regularity of a user’s ordering behavior according to the median in the “days_since_prior_order” column</b>"
   ]
  },
  {
   "cell_type": "markdown",
   "id": "3b6cffc0-9b2a-4929-980b-385b1e1350ad",
   "metadata": {
    "tags": []
   },
   "source": [
    "<b>If the median of “days_since_prior_order” is higher than 20, then the customer should be labeled a “Non-frequent customer.”</b>"
   ]
  },
  {
   "cell_type": "markdown",
   "id": "a530f7fc-49f6-4c39-b021-62a59e1436ef",
   "metadata": {},
   "source": [
    "<b>If the median is higher than 10 and lower than or equal to 20, then the customer should be labeled a “Regular customer.”</b>"
   ]
  },
  {
   "cell_type": "markdown",
   "id": "4652279a-e388-4320-b656-d4027aa2649c",
   "metadata": {},
   "source": [
    "<b>If the median is lower than or equal to 10, then the customer should be labeled a “Frequent customer.”</b>"
   ]
  },
  {
   "cell_type": "code",
   "execution_count": 37,
   "id": "07d156ff-8662-4684-adb1-aa214323ef73",
   "metadata": {
    "tags": []
   },
   "outputs": [],
   "source": [
    "# Create median time column\n",
    "df_ords_prods_merge['median_time'] = df_ords_prods_merge.groupby(['user_id'])['days_since_prior_order'].transform('median')"
   ]
  },
  {
   "cell_type": "code",
   "execution_count": 39,
   "id": "a048ed1c-f5f1-4fdf-b115-e59c0575de23",
   "metadata": {
    "tags": []
   },
   "outputs": [],
   "source": [
    "# Flag the customer's behaviour \n",
    "df_ords_prods_merge.loc[df_ords_prods_merge['median_time'] > 20, 'Regularity_flag'] = 'Non-frequent customer'\n",
    "df_ords_prods_merge.loc[(df_ords_prods_merge['median_time'] > 10) & (df_ords_prods_merge['median_time'] <= 20), 'Regularity_flag'] = 'Regular customer'\n",
    "df_ords_prods_merge.loc[df_ords_prods_merge['median_time'] <= 10, 'Regularity_flag'] = 'Frequent customer'"
   ]
  },
  {
   "cell_type": "code",
   "execution_count": 41,
   "id": "8fcd95c5-9474-4120-b98c-4b6119b89ca4",
   "metadata": {
    "tags": []
   },
   "outputs": [
    {
     "data": {
      "text/plain": [
       "Regularity_flag\n",
       "Frequent customer        22796659\n",
       "Regular customer          6921472\n",
       "Non-frequent customer     2686728\n",
       "Name: count, dtype: int64"
      ]
     },
     "execution_count": 41,
     "metadata": {},
     "output_type": "execute_result"
    }
   ],
   "source": [
    "# Frequency check\n",
    "df_ords_prods_merge['Regularity_flag'].value_counts(dropna = False)"
   ]
  }
 ],
 "metadata": {
  "kernelspec": {
   "display_name": "Python 3 (ipykernel)",
   "language": "python",
   "name": "python3"
  },
  "language_info": {
   "codemirror_mode": {
    "name": "ipython",
    "version": 3
   },
   "file_extension": ".py",
   "mimetype": "text/x-python",
   "name": "python",
   "nbconvert_exporter": "python",
   "pygments_lexer": "ipython3",
   "version": "3.11.7"
  }
 },
 "nbformat": 4,
 "nbformat_minor": 5
}
