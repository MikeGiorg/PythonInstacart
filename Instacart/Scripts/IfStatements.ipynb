{
 "cells": [
  {
   "cell_type": "markdown",
   "id": "7e437311-2f38-4398-9268-a238d14b280e",
   "metadata": {},
   "source": [
    "## Importing libraries and files"
   ]
  },
  {
   "cell_type": "code",
   "execution_count": 9,
   "id": "3808a0d1-4adb-4426-a71c-ec9bd98171a4",
   "metadata": {
    "tags": []
   },
   "outputs": [],
   "source": [
    "# import libraries\n",
    "import pandas as pd\n",
    "import numpy as np\n",
    "import os"
   ]
  },
  {
   "cell_type": "code",
   "execution_count": 11,
   "id": "fe19f01e-8124-4790-9450-a61123b4a4cb",
   "metadata": {
    "tags": []
   },
   "outputs": [],
   "source": [
    "# path\n",
    "path = r'/Users/michele/Desktop/CF/files/Module4/Instacart/Data'"
   ]
  },
  {
   "cell_type": "code",
   "execution_count": 13,
   "id": "30b5ce75-9e38-468f-b2a2-1a81e6ced72e",
   "metadata": {
    "tags": []
   },
   "outputs": [],
   "source": [
    "# import files\n",
    "df_ords_prods = pd.read_pickle(os.path.join(path, 'Prepared', 'products_orders_merged.pkl'))"
   ]
  },
  {
   "cell_type": "code",
   "execution_count": 14,
   "id": "fce93e26-f822-47e4-bd00-c47283839a43",
   "metadata": {
    "tags": []
   },
   "outputs": [],
   "source": [
    "# subset of df_ords_prods\n",
    "df_ords = df_ords_prods[:1000000]"
   ]
  },
  {
   "cell_type": "markdown",
   "id": "e9607c27-0625-4865-8f19-5c4030a05d7e",
   "metadata": {
    "tags": []
   },
   "source": [
    "## If Statements"
   ]
  },
  {
   "cell_type": "code",
   "execution_count": 17,
   "id": "70782287-a074-4e5d-b220-c1d73d8163d7",
   "metadata": {
    "tags": []
   },
   "outputs": [],
   "source": [
    "# new function with if statement \n",
    "def price_label(row):\n",
    "\n",
    "  if row['prices'] <= 5:\n",
    "    return 'Low-range product'\n",
    "  elif (row['prices'] > 5) and (row['prices'] <= 15):\n",
    "    return 'Mid-range product'\n",
    "  elif row['prices'] > 15:\n",
    "    return 'High range'\n",
    "  else: return 'Not enough data'"
   ]
  },
  {
   "cell_type": "code",
   "execution_count": null,
   "id": "df8c4bab-b78d-4f1d-8661-3a977c9c75f6",
   "metadata": {
    "tags": []
   },
   "outputs": [],
   "source": [
    "df_ords['price_range'] = df_ords.apply(price_label, axis= 1)"
   ]
  },
  {
   "cell_type": "code",
   "execution_count": 21,
   "id": "10f65003-3f88-4771-8b4d-a040e4e335a8",
   "metadata": {
    "tags": []
   },
   "outputs": [
    {
     "data": {
      "text/plain": [
       "price_range\n",
       "Mid-range product    673183\n",
       "Low-range product    314392\n",
       "High range            12425\n",
       "Name: count, dtype: int64"
      ]
     },
     "execution_count": 21,
     "metadata": {},
     "output_type": "execute_result"
    }
   ],
   "source": [
    "df_ords['price_range'].value_counts(dropna = False)"
   ]
  },
  {
   "cell_type": "code",
   "execution_count": null,
   "id": "92a01378-6a7f-4a33-9441-994bc0f5608a",
   "metadata": {
    "tags": []
   },
   "outputs": [],
   "source": [
    "# if with loc()\n",
    "df_ords.loc[df_ords['prices'] > 15, 'price_range_loc'] = 'High-range product'\n",
    "df_ords.loc[(df_ords['prices'] <= 15) & (df_ords['prices'] > 5), 'price_range_loc'] = 'Mid-range product' \n",
    "df_ords.loc[df_ords['prices'] <= 5, 'price_range_loc'] = 'Low-range product' "
   ]
  },
  {
   "cell_type": "code",
   "execution_count": 44,
   "id": "b0e9f01c-632b-481b-83be-597e7cecccac",
   "metadata": {
    "tags": []
   },
   "outputs": [
    {
     "data": {
      "text/plain": [
       "order_days_of_week\n",
       "0    189676\n",
       "1    169888\n",
       "6    139752\n",
       "5    133956\n",
       "2    130531\n",
       "3    118328\n",
       "4    117869\n",
       "Name: count, dtype: int64"
      ]
     },
     "execution_count": 44,
     "metadata": {},
     "output_type": "execute_result"
    }
   ],
   "source": [
    "# frequency of orders\n",
    "df_ords['order_days_of_week'].value_counts(dropna = False)"
   ]
  },
  {
   "cell_type": "code",
   "execution_count": 46,
   "id": "1f05690f-1873-4cbc-9ad5-c2dcd6e881c2",
   "metadata": {
    "tags": []
   },
   "outputs": [],
   "source": [
    "# if with For-Loops\n",
    "result = []\n",
    "\n",
    "for value in df_ords_prods[\"order_days_of_week\"]:\n",
    "  if value == 0:\n",
    "    result.append(\"Busiest day\")\n",
    "  elif value == 4:\n",
    "    result.append(\"Least busy\")\n",
    "  else:\n",
    "    result.append(\"Regularly busy\")"
   ]
  },
  {
   "cell_type": "code",
   "execution_count": 48,
   "id": "b8ac2c7e-cb9a-433c-8650-5e6f9592ef6c",
   "metadata": {
    "tags": []
   },
   "outputs": [],
   "source": [
    "# create new column for the results of the loop \n",
    "df_ords_prods['busiest_day'] = result"
   ]
  },
  {
   "cell_type": "code",
   "execution_count": 49,
   "id": "c72156b6-47bb-4133-9628-f98f1e2a576b",
   "metadata": {
    "tags": []
   },
   "outputs": [
    {
     "data": {
      "text/plain": [
       "busiest_day\n",
       "Regularly busy    22416875\n",
       "Busiest day        6204182\n",
       "Least busy         3783802\n",
       "Name: count, dtype: int64"
      ]
     },
     "execution_count": 49,
     "metadata": {},
     "output_type": "execute_result"
    }
   ],
   "source": [
    "# check the values for busiest_day\n",
    "df_ords_prods['busiest_day'].value_counts(dropna = False)"
   ]
  },
  {
   "cell_type": "markdown",
   "id": "210b6d5b-e5f5-44a0-a00d-ded6b870f13f",
   "metadata": {},
   "source": [
    "## Task"
   ]
  },
  {
   "cell_type": "code",
   "execution_count": 54,
   "id": "c2168225-ec8a-464a-a67c-34822c8297fd",
   "metadata": {
    "tags": []
   },
   "outputs": [],
   "source": [
    "# Busiest days”. The two busiest days of the week and the two slowest days"
   ]
  },
  {
   "cell_type": "code",
   "execution_count": 52,
   "id": "b5c9c79e-feee-4489-b0aa-a332c8fbfb01",
   "metadata": {
    "tags": []
   },
   "outputs": [],
   "source": [
    "# if statement \n",
    "result = []\n",
    "\n",
    "for value in df_ords_prods[\"order_days_of_week\"]:\n",
    "  if value == 0:\n",
    "    result.append(\"Busiest days\")\n",
    "  elif value == 1:\n",
    "    result.append(\"Busiest days\")\n",
    "  elif value == 4:\n",
    "    result.append(\"Least busy\")\n",
    "  elif value == 3:\n",
    "    result.append(\"Least busy\")\n",
    "  else:\n",
    "    result.append(\"Regularly busy\")"
   ]
  },
  {
   "cell_type": "code",
   "execution_count": 53,
   "id": "47f61636-22e2-45d7-9f7f-273a520459fd",
   "metadata": {
    "tags": []
   },
   "outputs": [],
   "source": [
    "# create new column for the results\n",
    "df_ords_prods['busiest_days'] = result"
   ]
  },
  {
   "cell_type": "code",
   "execution_count": 54,
   "id": "1d185120-df79-4a62-ac59-f105801f31e8",
   "metadata": {
    "tags": []
   },
   "outputs": [
    {
     "data": {
      "text/plain": [
       "busiest_days\n",
       "Regularly busy    12916111\n",
       "Busiest days      11864412\n",
       "Least busy         7624336\n",
       "Name: count, dtype: int64"
      ]
     },
     "execution_count": 54,
     "metadata": {},
     "output_type": "execute_result"
    }
   ],
   "source": [
    "# check the results of the statement\n",
    "df_ords_prods['busiest_days'].value_counts(dropna = False)"
   ]
  },
  {
   "cell_type": "markdown",
   "id": "4c99b8e6-6d65-4c71-9855-c0f5c59ef9f7",
   "metadata": {},
   "source": [
    "all the values have been added to the column correctly. "
   ]
  },
  {
   "cell_type": "code",
   "execution_count": 18,
   "id": "1b4e9dcf-8217-44ce-92b4-6ecefb07922e",
   "metadata": {
    "tags": []
   },
   "outputs": [
    {
     "data": {
      "text/plain": [
       "Index(['order_id', 'user_id', 'order_number', 'order_day_of_week',\n",
       "       'order_hour_of_day', 'days_since_prior_order', 'product_id',\n",
       "       'add_to_cart_order', 'reordered', '_merge', 'product_name', 'aisle_id',\n",
       "       'department_id', 'prices', 'exists', 'busiest_days'],\n",
       "      dtype='object')"
      ]
     },
     "execution_count": 18,
     "metadata": {},
     "output_type": "execute_result"
    }
   ],
   "source": [
    "df_ords_prods.columns"
   ]
  },
  {
   "cell_type": "code",
   "execution_count": 20,
   "id": "bc897dfe-9d02-411f-856f-7637dfbe359a",
   "metadata": {
    "tags": []
   },
   "outputs": [
    {
     "data": {
      "text/plain": [
       "order_hour_of_day\n",
       "10    2761760\n",
       "11    2736140\n",
       "14    2689136\n",
       "15    2662144\n",
       "13    2660954\n",
       "12    2618532\n",
       "16    2535202\n",
       "9     2454203\n",
       "17    2087654\n",
       "8     1718118\n",
       "18    1636502\n",
       "19    1258305\n",
       "20     976156\n",
       "7      891054\n",
       "21     795637\n",
       "22     634225\n",
       "23     402316\n",
       "6      290493\n",
       "0      218769\n",
       "1      115700\n",
       "5       87961\n",
       "2       69375\n",
       "4       53242\n",
       "3       51281\n",
       "Name: count, dtype: int64"
      ]
     },
     "execution_count": 20,
     "metadata": {},
     "output_type": "execute_result"
    }
   ],
   "source": [
    "# frequency for order hour of day \n",
    "df_ords_prods['order_hour_of_day'].value_counts(dropna = False)"
   ]
  },
  {
   "cell_type": "code",
   "execution_count": 58,
   "id": "bb249233-d39f-49d3-a34e-cfe6060da472",
   "metadata": {
    "tags": []
   },
   "outputs": [],
   "source": [
    "# if statement \n",
    "result = []\n",
    "\n",
    "for value in df_ords_prods[\"order_hour_of_day\"]:\n",
    "  if value == 10 or value == 11:\n",
    "    result.append(\"Most orders\")\n",
    "  elif value == 4 or value == 3:\n",
    "    result.append(\"Fewest orders\")\n",
    "  else:\n",
    "    result.append(\"Average orders\")"
   ]
  },
  {
   "cell_type": "code",
   "execution_count": 59,
   "id": "9bf61b18-2e13-4b48-b5af-2a73926fef93",
   "metadata": {
    "tags": []
   },
   "outputs": [],
   "source": [
    "# create column busiest_period_of_day\n",
    "df_ords_prods['busiest_period_of_day'] = result"
   ]
  },
  {
   "cell_type": "code",
   "execution_count": 61,
   "id": "db6f5b6c-e241-45d0-80e0-ef1945782232",
   "metadata": {
    "tags": []
   },
   "outputs": [
    {
     "data": {
      "text/plain": [
       "busiest_period_of_day\n",
       "Average orders    26802436\n",
       "Most orders        5497900\n",
       "Fewest orders       104523\n",
       "Name: count, dtype: int64"
      ]
     },
     "execution_count": 61,
     "metadata": {},
     "output_type": "execute_result"
    }
   ],
   "source": [
    "# frequency for busiest_period_of_day\n",
    "df_ords_prods['busiest_period_of_day'].value_counts(dropna = False)"
   ]
  },
  {
   "cell_type": "code",
   "execution_count": 63,
   "id": "1f3a90c9-5a83-4b01-9d50-fd8faf4595ac",
   "metadata": {
    "tags": []
   },
   "outputs": [],
   "source": [
    "# export dataframe\n",
    "df_ords_prods.to_pickle(os.path.join(path, 'Prepared', 'orders_products_freq.pkl'))"
   ]
  }
 ],
 "metadata": {
  "kernelspec": {
   "display_name": "Python 3 (ipykernel)",
   "language": "python",
   "name": "python3"
  },
  "language_info": {
   "codemirror_mode": {
    "name": "ipython",
    "version": 3
   },
   "file_extension": ".py",
   "mimetype": "text/x-python",
   "name": "python",
   "nbconvert_exporter": "python",
   "pygments_lexer": "ipython3",
   "version": "3.11.7"
  }
 },
 "nbformat": 4,
 "nbformat_minor": 5
}
